{
 "cells": [
  {
   "cell_type": "markdown",
   "metadata": {
    "collapsed": true,
    "pycharm": {
     "name": "#%% md\n"
    }
   },
   "source": [
    "<div align=\"right\" style=\"text-align: right\">\n",
    "<i>TTK21 lecture 2 - 3D geometry<br>September 2020</i>\n",
    "</div>\n",
    "\n",
    "# Exercise 1: Poses and cameras\n",
    "We will in this exercise play around with 3D poses and the perspective camera model.\n",
    "To make this even more fun, I have created [visgeom](https://github.com/tussedrotten/visgeom), a small library you can use to visualise poses and cameras.\n",
    "\n",
    "We can start by plotting the world frame $\\mathcal{F}_w$, which is just the origin in our 3D world:"
   ]
  },
  {
   "cell_type": "code",
   "execution_count": 66,
   "outputs": [
    {
     "data": {
      "text/plain": "<Figure size 432x288 with 1 Axes>",
      "image/png": "[encoded data removed]"
     },
     "metadata": {
      "needs_background": "light"
     },
     "output_type": "display_data"
    }
   ],
   "source": [
    "%matplotlib notebook\n",
    "import numpy as np\n",
    "import matplotlib.pyplot as plt\n",
    "import visgeom as vg\n",
    "\n",
    "# Create figure and axis.\n",
    "fig = plt.figure()\n",
    "ax = plt.axes(projection='3d')\n",
    "ax.set_xlabel('x')\n",
    "ax.set_ylabel('y')\n",
    "ax.set_zlabel('z')\n",
    "\n",
    "# Plot the pose of the world frame (relative to the world frame).\n",
    "R_w_w = np.identity(3)\n",
    "t_w_w = np.zeros((3, 1))\n",
    "vg.plot_pose(ax, (R_w_w, t_w_w), scale=0.4, text='$\\mathcal{F}_w$')\n",
    "\n",
    "# Show figure.\n",
    "vg.plot.axis_equal(ax)\n",
    "ax.invert_zaxis()\n",
    "ax.invert_yaxis()\n",
    "plt.show()"
   ],
   "metadata": {
    "collapsed": false,
    "pycharm": {
     "name": "#%%\n"
    }
   }
  },
  {
   "cell_type": "markdown",
   "source": [
    "We will assume that the world frame is a NED coordinate frame (notice that the $z$-axis is pointing downwards).\n",
    "The pose of the world frame is here represented as the tuple `(R_w_w, t_w_w)`, where `R_w_w` is the rotation matrix describing the orientation, and `t_w_w` is the translation vector.\n",
    "You can find documentation for the `visgeom` functions in the [source files](https://github.com/tussedrotten/visgeom)."
   ],
   "metadata": {
    "collapsed": false,
    "pycharm": {
     "name": "#%% md\n"
    }
   }
  },
  {
   "cell_type": "markdown",
   "source": [
    "## Ex 1.1: Implement classes for rotations and poses\n",
    "Instead of working on these pose tuples `(R, t)`, it will be more convenient to write classes that represents the rotations $\\mathbf{R} \\in SO(3)$ and poses $\\mathbf{T} \\in SE(3)$.\n",
    "\n",
    "Carefully read the code below and finish the classes `Rot3` and `Pose3`.\n",
    "Make sure to implement the operations *composition*, *inverse* and *action on points*, for $SO(3)$ and $SE(3)$.\n",
    "Each place you need to add code should be clearly marked with `# TODO:`."
   ],
   "metadata": {
    "collapsed": false,
    "pycharm": {
     "name": "#%% md\n"
    }
   }
  },
  {
   "cell_type": "code",
   "execution_count": 30,
   "outputs": [],
   "source": [
    "from scipy.spatial.transform import Rotation\n",
    "\n",
    "class Rot3:\n",
    "    \"\"\"Represents an element of the SO(3) Lie group (rotations in 3D).\"\"\"\n",
    "\n",
    "    def __init__(self, R=np.identity(3)):\n",
    "        \"\"\"Constructs an SO(3) element.\n",
    "        The default is the identity element.\n",
    "        Other 3x3 matrices R are fitted to the closest matrix on SO(3).\n",
    "\n",
    "        :param R: A 3x3 rotation matrix (optional).\n",
    "        \"\"\"\n",
    "        if R is self.__init__.__defaults__[0]:\n",
    "            # Default argument is identity.\n",
    "            # Set property directly, since guaranteed SO(3).\n",
    "            self._matrix = np.identity(3)\n",
    "        else:\n",
    "            # Argument should be some 3x3 matrix.\n",
    "            # Fit to SO(3).\n",
    "            self.matrix = R\n",
    "\n",
    "    @property\n",
    "    def matrix(self):\n",
    "        \"\"\" The matrix representation of the SO(3) element\n",
    "\n",
    "        :return: 3x3 rotation matrix corresponding to this SO(3) element.\n",
    "        \"\"\"\n",
    "        return self._matrix\n",
    "\n",
    "    @matrix.setter\n",
    "    def matrix(self, R):\n",
    "        \"\"\"Sets the matrix to the closest element on SO(3)\n",
    "\n",
    "        :param R: 3x3 matrix\n",
    "        \"\"\"\n",
    "        # This is slower than necessary, but ensures correct representation.\n",
    "        self._matrix = Rot3.to_so3_matrix(R)\n",
    "\n",
    "    @staticmethod\n",
    "    def to_so3_matrix(R):\n",
    "        \"\"\"Fits an arbitrary 3x3 matrix to the closest element on SO(3)\n",
    "\n",
    "        :param R: An arbitrary 3x3 matrix\n",
    "        :return: The closest valid 3x3 rotation matrix\n",
    "        \"\"\"\n",
    "        if not (isinstance(R, np.ndarray) and R.shape == (3, 3)):\n",
    "            raise TypeError('Argument must be a 3x3 matrix')\n",
    "\n",
    "        u, s, v = np.linalg.svd(R)\n",
    "        R = u.dot(v)\n",
    "\n",
    "        if np.linalg.det(R) < 0:\n",
    "            R = -R\n",
    "\n",
    "        return R\n",
    "\n",
    "    @classmethod\n",
    "    def from_angle_axis(cls, angle, axis):\n",
    "        \"\"\"Construct an SO(3) element corresponding to a rotation around a specified axis.\n",
    "\n",
    "        :param angle: Rotation angle in radians.\n",
    "        :param axis: Rotation axis as a unit 3d column vector.\n",
    "        :return: The SO(3) element.\n",
    "        \"\"\"\n",
    "        # Guaranteed to be SO(3), so set property directly.\n",
    "        rot3 = cls()\n",
    "        rot3._matrix = Rotation.from_rotvec(angle * axis.T).as_matrix()\n",
    "        return rot3\n",
    "\n",
    "    @classmethod\n",
    "    def rot_x(cls, angle):\n",
    "        \"\"\"Construct an SO(3) element corresponding to a rotation around the x-axis.\n",
    "\n",
    "        :param angle: Rotation angle in radians.\n",
    "        :return: The SO(3) element.\n",
    "        \"\"\"\n",
    "        return cls.from_angle_axis(angle, np.array([[1, 0, 0]]).T)\n",
    "\n",
    "    @classmethod\n",
    "    def rot_y(cls, angle):\n",
    "        \"\"\"Construct an SO(3) element corresponding to a rotation around the y-axis.\n",
    "\n",
    "        :param angle: Rotation angle in radians.\n",
    "        :return: The SO(3) element.\n",
    "        \"\"\"\n",
    "        return cls.from_angle_axis(angle, np.array([[0, 1, 0]]).T)\n",
    "\n",
    "    @classmethod\n",
    "    def rot_z(cls, angle):\n",
    "        \"\"\"Construct an SO(3) element corresponding to a rotation around the z-axis.\n",
    "\n",
    "        :param angle: Rotation angle in radians.\n",
    "        :return: The SO(3) element.\n",
    "        \"\"\"\n",
    "        return cls.from_angle_axis(angle, np.array([[0, 0, 1]]).T)\n",
    "\n",
    "    @classmethod\n",
    "    def from_roll_pitch_yaw(cls, roll, pitch, yaw):\n",
    "        \"\"\"Construct an SO(3) element from Z-Y-X Euler angles.\n",
    "\n",
    "        :param roll: Rotation angle around the x-axis in radians.\n",
    "        :param pitch: Rotation angle around the y-axis in radians.\n",
    "        :param yaw: Rotation angle around the z-axis in radians.\n",
    "        :return: The SO(3) element.\n",
    "        \"\"\"\n",
    "        # Guaranteed to be SO(3) through composition, so set property directly.\n",
    "        rot3 = cls()\n",
    "        rot3._matrix = (Rot3.rot_z(yaw) * Rot3.rot_y(pitch) * Rot3.rot_x(roll)).matrix\n",
    "        return rot3\n",
    "\n",
    "    def compose(self, Y):\n",
    "        \"\"\"Compose this element with another element on the right\n",
    "\n",
    "        :param Y: The other Rot3 element\n",
    "        :return: This element composed with Y\n",
    "        \"\"\"\n",
    "\n",
    "        # TODO: Implement composition!\n",
    "        return Rot3()\n",
    "\n",
    "    def inverse(self):\n",
    "        \"\"\"Compute the inverse of the current element X.\n",
    "\n",
    "        :return: The inverse of the current element.\n",
    "        \"\"\"\n",
    "        # The transpose is guaranteed to be SO(3), update the property directly.\n",
    "        X_inv = Rot3()\n",
    "\n",
    "        # TODO: Compute correct matrix for inverse!\n",
    "        X_inv._matrix = np.identity(3)\n",
    "        return X_inv\n",
    "\n",
    "    def action(self, x):\n",
    "        \"\"\"Perform the action of the SO(3) element on the 3D column vector x.\n",
    "\n",
    "        :param x: 3D column vector to be transformed\n",
    "        :return: The resulting rotated 3D column vector\n",
    "        \"\"\"\n",
    "\n",
    "        # TODO: Implement action on points!\n",
    "        return x\n",
    "\n",
    "    def __mul__(self, other):\n",
    "        \"\"\"Multiplication operator performs composition on elements of SO(3) and action on vectors.\n",
    "\n",
    "        :param other: Rot3 or 3D column vector\n",
    "        :return: Composition for Rot3, or action for 3D column vector\n",
    "        \"\"\"\n",
    "        if isinstance(other, np.ndarray) and other.shape == (3, 1):\n",
    "            # Other is 3D column vector, perform action on vector.\n",
    "            return self.action(other)\n",
    "        elif isinstance(other, Rot3):\n",
    "            # Other is Rot3, perform composition.\n",
    "            return self.compose(other)\n",
    "        else:\n",
    "            raise TypeError('Argument must be a 3D column vector or a Rot3')\n"
   ],
   "metadata": {
    "collapsed": false,
    "pycharm": {
     "name": "#%%\n"
    }
   }
  },
  {
   "cell_type": "code",
   "execution_count": 57,
   "outputs": [],
   "source": [
    "class Pose3:\n",
    "    \"\"\"Represents an element of the SE(3) Lie group (poses in 3D).\"\"\"\n",
    "\n",
    "    def __init__(self, pose_tuple=(Rot3(), np.zeros((3, 1)))):\n",
    "        \"\"\"Constructs an SO(3) element.\n",
    "        The default is the identity element.\n",
    "\n",
    "        :param pose_tuple: A tuple (rot3, t) (optional).\n",
    "        \"\"\"\n",
    "        self.rotation, self.translation = pose_tuple\n",
    "\n",
    "    @property\n",
    "    def rotation(self):\n",
    "        \"\"\" The Rot3 rotation, an element of SO(3)\n",
    "\n",
    "        :return: A Rot3 object corresponding to the orientation.\n",
    "        \"\"\"\n",
    "        return self._rotation\n",
    "\n",
    "    @rotation.setter\n",
    "    def rotation(self, rot3):\n",
    "        \"\"\"Sets the rotation\n",
    "\n",
    "        :param rot3: A Rot3\n",
    "        \"\"\"\n",
    "        if not isinstance(rot3, Rot3):\n",
    "            raise TypeError('Rotation must be a Rot3')\n",
    "\n",
    "        self._rotation = rot3\n",
    "\n",
    "    @property\n",
    "    def translation(self):\n",
    "        \"\"\"The translation, a 3D column vector\n",
    "\n",
    "        :return: A 3D column vector corresponding to the translation.\n",
    "        \"\"\"\n",
    "        return self._translation\n",
    "\n",
    "    @translation.setter\n",
    "    def translation(self, t):\n",
    "        \"\"\"Sets the translation\n",
    "\n",
    "        :param t: 3D column vector\n",
    "        \"\"\"\n",
    "        if not isinstance(t, np.ndarray) and t.shape == (3, 1):\n",
    "            raise TypeError('Translation must be a 3D column vector')\n",
    "\n",
    "        self._translation = t\n",
    "\n",
    "    def to_matrix(self):\n",
    "        \"\"\"Return the matrix representation of this pose.\n",
    "\n",
    "        :return: 4x4 SE(3) matrix\n",
    "        \"\"\"\n",
    "        T = np.identity(4)\n",
    "        T[0:3, 0:3] = self.rotation.matrix\n",
    "        T[0:3, 3] = self.translation.T\n",
    "        return T\n",
    "\n",
    "    def to_tuple(self):\n",
    "        \"\"\"Return the tuple representation of this pose\n",
    "\n",
    "        :return: (R (3x3 matrix), t (3D column vector)\n",
    "        \"\"\"\n",
    "        return (self.rotation.matrix, self.translation)\n",
    "\n",
    "    def compose(self, Y):\n",
    "        \"\"\"Compose this element with another element on the right\n",
    "\n",
    "        :param Y: The other Pose3 element\n",
    "        :return: This element composed with Y\n",
    "        \"\"\"\n",
    "\n",
    "        # TODO: Implement composition!\n",
    "        return Pose3()\n",
    "\n",
    "    def inverse(self):\n",
    "        \"\"\"Compute the inverse of the current element X.\n",
    "\n",
    "        :return: The inverse of the current element.\n",
    "        \"\"\"\n",
    "\n",
    "        # TODO: Compute the inverse!\n",
    "        return Pose3()\n",
    "\n",
    "    def action(self, x):\n",
    "        \"\"\"Perform the action of the SE(3) element on the 3D column vector x.\n",
    "\n",
    "        :param x: 3D column vector to be transformed\n",
    "        :return: The resulting rotated and translated 3D column vector\n",
    "        \"\"\"\n",
    "\n",
    "        # TODO: Implement action on points!\n",
    "        return x\n",
    "\n",
    "    def __mul__(self, other):\n",
    "        \"\"\"Multiplication operator performs composition on elements of SE(3) and action on vectors.\n",
    "\n",
    "        :param other: Pose3 or 3D column vector\n",
    "        :return: Composition for Pose3, or action for 3D column vector\n",
    "        \"\"\"\n",
    "        if isinstance(other, np.ndarray) and other.shape == (3, 1):\n",
    "            # Other is 3D column vector, perform action on vector.\n",
    "            return self.action(other)\n",
    "        elif isinstance(other, Pose3):\n",
    "            # Other is Pose3, perform composition.\n",
    "            return self.compose(other)\n",
    "        else:\n",
    "            raise TypeError('Argument must be a 3D column vector or a Pose3')"
   ],
   "metadata": {
    "collapsed": false,
    "pycharm": {
     "name": "#%%\n"
    }
   }
  },
  {
   "cell_type": "markdown",
   "source": [
    "When you are finished with the `Rot3`and `Pose3` classes, the following code should work."
   ],
   "metadata": {
    "collapsed": false,
    "pycharm": {
     "name": "#%% md\n"
    }
   }
  },
  {
   "cell_type": "code",
   "execution_count": 55,
   "outputs": [
    {
     "ename": "AssertionError",
     "evalue": "\nArrays are not almost equal to 14 decimals\n\nMismatched elements: 3 / 3 (100%)\nMax absolute difference: 1.\nMax relative difference: 1.\n x: array([[0.],\n       [0.],\n       [0.]])\n y: array([[1.],\n       [1.],\n       [1.]])",
     "output_type": "error",
     "traceback": [
      "\u001B[1;31m---------------------------------------------------------------------------\u001B[0m",
      "\u001B[1;31mAssertionError\u001B[0m                            Traceback (most recent call last)",
      "\u001B[1;32m<ipython-input-55-3be0c0862e14>\u001B[0m in \u001B[0;36m<module>\u001B[1;34m\u001B[0m\n\u001B[0;32m     14\u001B[0m \u001B[1;33m\u001B[0m\u001B[0m\n\u001B[0;32m     15\u001B[0m \u001B[1;31m# These should be identical.\u001B[0m\u001B[1;33m\u001B[0m\u001B[1;33m\u001B[0m\u001B[1;33m\u001B[0m\u001B[0m\n\u001B[1;32m---> 16\u001B[1;33m \u001B[0mnp\u001B[0m\u001B[1;33m.\u001B[0m\u001B[0mtesting\u001B[0m\u001B[1;33m.\u001B[0m\u001B[0massert_almost_equal\u001B[0m\u001B[1;33m(\u001B[0m\u001B[0mx_a_1\u001B[0m\u001B[1;33m,\u001B[0m \u001B[0mpose_a_b\u001B[0m\u001B[1;33m.\u001B[0m\u001B[0mtranslation\u001B[0m\u001B[1;33m,\u001B[0m \u001B[1;36m14\u001B[0m\u001B[1;33m)\u001B[0m\u001B[1;33m\u001B[0m\u001B[1;33m\u001B[0m\u001B[0m\n\u001B[0m\u001B[0;32m     17\u001B[0m \u001B[0mnp\u001B[0m\u001B[1;33m.\u001B[0m\u001B[0mtesting\u001B[0m\u001B[1;33m.\u001B[0m\u001B[0massert_almost_equal\u001B[0m\u001B[1;33m(\u001B[0m\u001B[0mx_a_1\u001B[0m\u001B[1;33m,\u001B[0m \u001B[0mx_a_2\u001B[0m\u001B[1;33m,\u001B[0m \u001B[1;36m14\u001B[0m\u001B[1;33m)\u001B[0m\u001B[1;33m\u001B[0m\u001B[1;33m\u001B[0m\u001B[0m\n\u001B[0;32m     18\u001B[0m \u001B[1;33m\u001B[0m\u001B[0m\n",
      "    \u001B[1;31m[... skipping hidden 3 frame]\u001B[0m\n",
      "\u001B[1;31mAssertionError\u001B[0m: \nArrays are not almost equal to 14 decimals\n\nMismatched elements: 3 / 3 (100%)\nMax absolute difference: 1.\nMax relative difference: 1.\n x: array([[0.],\n       [0.],\n       [0.]])\n y: array([[1.],\n       [1.],\n       [1.]])"
     ]
    }
   ],
   "source": [
    "# Construct a few relative poses.\n",
    "pose_a_b = Pose3((Rot3.rot_x(np.pi), np.ones((3, 1))))\n",
    "pose_b_c = Pose3((Rot3.rot_z(np.pi / 3), np.array([[1, 2, 3]]).T))\n",
    "\n",
    "# Find pose of c in a with composition.\n",
    "pose_a_c = pose_a_b * pose_b_c\n",
    "\n",
    "# Define a point in frame b.\n",
    "x_b = np.zeros((3, 1))\n",
    "\n",
    "# Compute the corresponding point in frame a using three different methods.\n",
    "x_a_1 = pose_a_b * x_b\n",
    "x_a_2 = pose_a_c * pose_b_c.inverse() * x_b\n",
    "\n",
    "# These should be identical.\n",
    "np.testing.assert_almost_equal(x_a_1, pose_a_b.translation, 14)\n",
    "np.testing.assert_almost_equal(x_a_1, x_a_2, 14)\n"
   ],
   "metadata": {
    "collapsed": false,
    "pycharm": {
     "name": "#%%\n"
    }
   }
  },
  {
   "cell_type": "markdown",
   "source": [
    "## Ex 1.2: Visualise the coordinate frames on a UGV\n",
    "Consider  the following coordinate frames:\n",
    "- The world frame $\\mathcal{F}_w$, a NED-frame which is also the coordinate frame of the plot.\n",
    "- The the UGV body frame $\\mathcal{F}_b$, a body-fixed Forward-Right-Down (FRD) frame.\n",
    "- The camera sensor frame $\\mathcal{F}_c$, following the standard perspective camera geometry.\n",
    "- The frame of a cubic obstacle $\\mathcal{F}_o$, a body-fixed Forward-Left_Up (FRU) frame.\n",
    "\n",
    "The pose of the UGV $\\mathbf{T}_{wb}$ is given as:\n",
    "  - Orientation: Roll = $2^\\circ$, Pitch = $-10^\\circ$, Yaw = $45^\\circ$\n",
    "  - Position: North: $-10$ m, East: $-10$ m, Down: $-2$ m\n",
    "\n",
    "The camera is placed $2$ m directly above the origin of the UGV.\n",
    "Its optical axis points to the left (in opposite direction of the $y$-axis in $\\mathcal{F}_b$).\n",
    "Its $y$-axis points downwards along the $z$-axis of $\\mathcal{F}_b$.\n",
    "\n",
    "The cube is placed at (North: $10$ m, East: $10$ m, Down: $-1$ m).\n",
    "Its top points upwards, and its front points south.\n",
    "\n",
    "Compute the poses of all these coordinate frames in the world frame, and use `visgeom` to plot them:"
   ],
   "metadata": {
    "collapsed": false,
    "pycharm": {
     "name": "#%% md\n"
    }
   }
  },
  {
   "cell_type": "code",
   "execution_count": 68,
   "outputs": [
    {
     "data": {
      "text/plain": "<Figure size 432x288 with 1 Axes>",
      "image/png": "[encoded data removed]"
     },
     "metadata": {
      "needs_background": "light"
     },
     "output_type": "display_data"
    }
   ],
   "source": [
    "# Create figure and axis.\n",
    "fig = plt.figure()\n",
    "ax = plt.axes(projection='3d')\n",
    "ax.set_xlabel('x')\n",
    "ax.set_ylabel('y')\n",
    "ax.set_zlabel('z')\n",
    "\n",
    "# Plot the pose of the world frame (relative to the world frame).\n",
    "T_w_w = Pose3()\n",
    "vg.plot_pose(ax, T_w_w.to_tuple(), scale=3, text='$\\mathcal{F}_w$')\n",
    "\n",
    "# TODO: Compute the poses, and plot the other frames here:\n",
    "\n",
    "# Show figure.\n",
    "vg.plot.axis_equal(ax)\n",
    "ax.invert_zaxis()\n",
    "ax.invert_yaxis()\n",
    "plt.show()"
   ],
   "metadata": {
    "collapsed": false,
    "pycharm": {
     "name": "#%%\n"
    }
   }
  },
  {
   "cell_type": "markdown",
   "source": [
    "## Ex 1.3: Add a camera"
   ],
   "metadata": {
    "collapsed": false,
    "pycharm": {
     "name": "#%% md\n"
    }
   }
  },
  {
   "cell_type": "markdown",
   "source": [
    "## Bonus exercise: Make the platform and camera move!"
   ],
   "metadata": {
    "collapsed": false,
    "pycharm": {
     "name": "#%% md\n"
    }
   }
  }
 ],
 "metadata": {
  "kernelspec": {
   "display_name": "Python 3",
   "language": "python",
   "name": "python3"
  },
  "language_info": {
   "codemirror_mode": {
    "name": "ipython",
    "version": 2
   },
   "file_extension": ".py",
   "mimetype": "text/x-python",
   "name": "python",
   "nbconvert_exporter": "python",
   "pygments_lexer": "ipython2",
   "version": "2.7.6"
  }
 },
 "nbformat": 4,
 "nbformat_minor": 0
}