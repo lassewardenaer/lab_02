{
 "cells": [
  {
   "cell_type": "markdown",
   "source": [
    "<div align=\"right\" style=\"text-align: right\">\n",
    "<i>TTK21 lecture 2 - 3D geometry<br>September 2020</i>\n",
    "</div>\n",
    "\n",
    "# Exercise 2: Epipolar geometry\n",
    "We are here given two undistorted images of the Holmenkollen ski jump along with the intrinsic calibration and camera poses.\n",
    "Lets start by loading the data:"
   ],
   "metadata": {
    "collapsed": false
   }
  },
  {
   "cell_type": "code",
   "execution_count": null,
   "metadata": {
    "collapsed": true
   },
   "outputs": [],
   "source": [
    "%matplotlib inline\n",
    "import cv2\n",
    "import numpy as np\n",
    "import matplotlib.pyplot as plt\n",
    "\n",
    "# Load the images.\n",
    "img1 = cv2.cvtColor(cv2.imread('holmenkollen_00011.jpg'), cv2.COLOR_BGR2RGB)\n",
    "img2 = cv2.cvtColor(cv2.imread('holmenkollen_00109.jpg'), cv2.COLOR_BGR2RGB)\n",
    "\n",
    "# The same camera was used for both images, so we use the same intrinsic calibration for both:\n",
    "f = 2077.14839063367   # \"Focal length\" f = f_u = f_v\n",
    "c_u = 693.247999941708 # Principal point (u coordinate)\n",
    "c_v = 458.649537351898 # Principal point (v coordinate)\n",
    "\n",
    "# Pose of the camera in the world frame for image 1:\n",
    "T_w_c1 = np.array([[-0.639624697335995, -0.694022906797833, 0.330473072121957, 3145200.15425671],\n",
    "                   [-0.628547993532952, 0.224726604006926, -0.744597457205714, 593080.793902705],\n",
    "                   [0.442501600430481, -0.683981109601282, -0.579967391604961, 5499162.80464172],\n",
    "                   [0, 0, 0, 1]])\n",
    "\n",
    "# Pose of the camera in the world frame for image 2:\n",
    "T_w_c2 = np.array([[-0.625105611303362, -0.715529464633440, 0.311866253317721, 3145236.34478279],\n",
    "                   [-0.623348537903210, 0.217168312747740, -0.751182084605477, 592986.546582212],\n",
    "                   [0.469765446804019, -0.663969509224395, -0.581777376501817, 5499122.20246185],\n",
    "                   [0, 0, 0, 1]])"
   ]
  },
  {
   "cell_type": "markdown",
   "source": [
    "We can plot the images using matplotlib:"
   ],
   "metadata": {
    "collapsed": false
   }
  },
  {
   "cell_type": "code",
   "execution_count": null,
   "outputs": [],
   "source": [
    "plt.figure()\n",
    "plt.imshow(img1)\n",
    "plt.title('img1')\n",
    "plt.show()\n",
    "\n",
    "plt.figure()\n",
    "plt.imshow(img2)\n",
    "plt.title('img2')\n",
    "plt.show()"
   ],
   "metadata": {
    "collapsed": false,
    "pycharm": {
     "name": "#%%\n"
    }
   }
  },
  {
   "cell_type": "markdown",
   "source": [
    "We see that these two images are the same we used in the last example at page 87 in lecture 2.\n",
    "Your task is to recreate this example:\n",
    "- Construct the camera calibration matrix $\\mathbf{K}$\n",
    "- Compute the pose of one camera relative to the other.\n",
    "- Choose one or more points in one image, and compute the epipolar line in the other as a function of depth.\n",
    "- Plot the epipolar lines.\n",
    "- Plot a few depths along the epipolar lines.\n",
    "- Plot the points at infinity.\n"
   ],
   "metadata": {
    "collapsed": false
   }
  },
  {
   "cell_type": "code",
   "execution_count": null,
   "outputs": [],
   "source": [
    "# Write you code here.\n",
    "\n"
   ],
   "metadata": {
    "collapsed": false,
    "pycharm": {
     "name": "#%%\n"
    }
   }
  },
  {
   "cell_type": "markdown",
   "source": [
    "Feel free to play around!"
   ],
   "metadata": {
    "collapsed": false,
    "pycharm": {
     "name": "#%% md\n"
    }
   }
  }
 ],
 "metadata": {
  "kernelspec": {
   "display_name": "Python 3",
   "language": "python",
   "name": "python3"
  },
  "language_info": {
   "codemirror_mode": {
    "name": "ipython",
    "version": 2
   },
   "file_extension": ".py",
   "mimetype": "text/x-python",
   "name": "python",
   "nbconvert_exporter": "python",
   "pygments_lexer": "ipython2",
   "version": "2.7.6"
  }
 },
 "nbformat": 4,
 "nbformat_minor": 0
}